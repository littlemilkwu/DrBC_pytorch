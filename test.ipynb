{
 "cells": [
  {
   "cell_type": "code",
   "execution_count": 5,
   "metadata": {},
   "outputs": [],
   "source": [
    "import numpy as np\n",
    "import pandas as pd\n",
    "import torch\n",
    "from model import DrBC\n",
    "from utils import prepare_test, prepare_synthetic, preprocessing_data, validate\n",
    "MODEL_SAVED_PATH = \"saved_model/\""
   ]
  },
  {
   "cell_type": "markdown",
   "metadata": {},
   "source": [
    "### Experiment"
   ]
  },
  {
   "cell_type": "code",
   "execution_count": 6,
   "metadata": {},
   "outputs": [],
   "source": [
    "device = torch.device('cuda' if torch.cuda.is_available() else 'cpu')"
   ]
  },
  {
   "cell_type": "code",
   "execution_count": 7,
   "metadata": {},
   "outputs": [
    {
     "name": "stdout",
     "output_type": "stream",
     "text": [
      "--------------- 5000\n"
     ]
    },
    {
     "name": "stderr",
     "output_type": "stream",
     "text": [
      "[Generating new training graph]: 100%|██████████| 30/30 [06:28<00:00, 12.96s/it]\n"
     ]
    },
    {
     "name": "stdout",
     "output_type": "stream",
     "text": [
      "--------------- 10000\n"
     ]
    },
    {
     "name": "stderr",
     "output_type": "stream",
     "text": [
      "[Generating new training graph]: 100%|██████████| 30/30 [12:50<00:00, 25.67s/it]\n"
     ]
    },
    {
     "name": "stdout",
     "output_type": "stream",
     "text": [
      "--------------- 20000\n"
     ]
    },
    {
     "name": "stderr",
     "output_type": "stream",
     "text": [
      "[Generating new training graph]: 100%|██████████| 30/30 [40:48<00:00, 81.60s/it]\n",
      "/home/littlemilk/miniconda3/envs/jupyterhub/lib/python3.9/site-packages/scipy/stats/_stats_py.py:5218: RuntimeWarning: overflow encountered in long_scalars\n",
      "  (2 * xtie * ytie) / m + x0 * y0 / (9 * m * (size - 2)))\n"
     ]
    }
   ],
   "source": [
    "model200 = DrBC().to(device)\n",
    "model200.load_state_dict(torch.load(f'{MODEL_SAVED_PATH}DrBC_G1000_N200_E10000.pth'))\n",
    "\n",
    "model5000 = DrBC().to(device)\n",
    "model5000.load_state_dict(torch.load(f'{MODEL_SAVED_PATH}DrBC_G1000_N5000_E5000.pth'))\n",
    "\n",
    "scales = [5000, 10000, 20000]\n",
    "ls_metrics = []\n",
    "for scale in scales:\n",
    "    print('-'*15, scale)\n",
    "    g_list, dg_list, bc_list = prepare_synthetic(30, (scale, scale+1), parallel=True)\n",
    "    for i in range(len(g_list)):\n",
    "        test_X, test_y, test_edge_index = preprocessing_data([g_list[i]], [dg_list[i]], [bc_list[i]])\n",
    "        t_data = [[test_X, test_y, test_edge_index]]\n",
    "        _acc1, _acc5, _acc10, _kendall, _time = validate(model200, t_data)\n",
    "        ls_metrics.append([scale, '200', i, _acc1, _acc5, _acc10, _kendall, _time])\n",
    "\n",
    "        _acc1, _acc5, _acc10, _kendall, _time = validate(model5000, t_data)\n",
    "        ls_metrics.append([scale, '5000', i, _acc1, _acc5, _acc10, _kendall, _time])\n",
    "\n",
    "t_data = prepare_test('y')\n",
    "_acc1, _acc5, _acc10, _kendall, _time = validate(model200, t_data) \n",
    "ls_metrics.append(['youtube', '200', 0, _acc1, _acc5, _acc10, _kendall, _time])\n",
    "\n",
    "_acc1, _acc5, _acc10, _kendall, _time = validate(model5000, t_data) \n",
    "ls_metrics.append(['youtube', '5000', 0, _acc1, _acc5, _acc10, _kendall, _time])"
   ]
  },
  {
   "cell_type": "code",
   "execution_count": 8,
   "metadata": {},
   "outputs": [],
   "source": [
    "df = pd.DataFrame(ls_metrics, columns=['scale', 'model', 'test_graph_id', 'test_acc1', 'test_acc5', 'test_acc10', 'test_kendall', 'time'])\n",
    "df.to_csv('test_scale_diff_result.csv', index=False)"
   ]
  }
 ],
 "metadata": {
  "kernelspec": {
   "display_name": "jupyterhub",
   "language": "python",
   "name": "jupyterhub"
  },
  "language_info": {
   "codemirror_mode": {
    "name": "ipython",
    "version": 3
   },
   "file_extension": ".py",
   "mimetype": "text/x-python",
   "name": "python",
   "nbconvert_exporter": "python",
   "pygments_lexer": "ipython3",
   "version": "3.9.13"
  },
  "orig_nbformat": 4
 },
 "nbformat": 4,
 "nbformat_minor": 2
}
