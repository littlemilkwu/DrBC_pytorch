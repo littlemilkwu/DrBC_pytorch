{
 "cells": [
  {
   "cell_type": "code",
   "execution_count": 1,
   "metadata": {},
   "outputs": [],
   "source": [
    "import numpy as np\n",
    "import pandas as pd\n",
    "import torch\n",
    "from model import DrBC\n",
    "from utils import prepare_test, prepare_synthetic, preprocessing_data, validate\n",
    "MODEL_SAVED_PATH = \"saved_model/\""
   ]
  },
  {
   "cell_type": "markdown",
   "metadata": {},
   "source": [
    "### Experiment"
   ]
  },
  {
   "cell_type": "code",
   "execution_count": 2,
   "metadata": {},
   "outputs": [],
   "source": [
    "device = torch.device('cuda' if torch.cuda.is_available() else 'cpu')"
   ]
  },
  {
   "cell_type": "code",
   "execution_count": 3,
   "metadata": {},
   "outputs": [
    {
     "name": "stdout",
     "output_type": "stream",
     "text": [
      "--------------- 5000\n"
     ]
    },
    {
     "data": {
      "application/vnd.jupyter.widget-view+json": {
       "model_id": "00973d3791ad48638776941e135c4ae8",
       "version_major": 2,
       "version_minor": 0
      },
      "text/plain": [
       "[Generating new training graph]:   0%|          | 0/30 [00:00<?, ?it/s]"
      ]
     },
     "metadata": {},
     "output_type": "display_data"
    },
    {
     "name": "stdout",
     "output_type": "stream",
     "text": [
      "--------------- 10000\n"
     ]
    },
    {
     "data": {
      "application/vnd.jupyter.widget-view+json": {
       "model_id": "17e8ca8013b2449faf12fdc1697ea3df",
       "version_major": 2,
       "version_minor": 0
      },
      "text/plain": [
       "[Generating new training graph]:   0%|          | 0/30 [00:00<?, ?it/s]"
      ]
     },
     "metadata": {},
     "output_type": "display_data"
    },
    {
     "name": "stdout",
     "output_type": "stream",
     "text": [
      "--------------- 20000\n"
     ]
    },
    {
     "data": {
      "application/vnd.jupyter.widget-view+json": {
       "model_id": "58216021e36e47558c8b57c0ab965ab9",
       "version_major": 2,
       "version_minor": 0
      },
      "text/plain": [
       "[Generating new training graph]:   0%|          | 0/30 [00:00<?, ?it/s]"
      ]
     },
     "metadata": {},
     "output_type": "display_data"
    },
    {
     "name": "stderr",
     "output_type": "stream",
     "text": [
      "/home/littlemilk/miniconda3/envs/jupyterhub/lib/python3.9/site-packages/scipy/stats/_stats_py.py:5218: RuntimeWarning: overflow encountered in long_scalars\n",
      "  (2 * xtie * ytie) / m + x0 * y0 / (9 * m * (size - 2)))\n"
     ]
    }
   ],
   "source": [
    "model200 = DrBC()\n",
    "model200.load_state_dict(torch.load(f'{MODEL_SAVED_PATH}DrBC_G1000_N200_E10000.pth'))\n",
    "\n",
    "model500 = DrBC()\n",
    "model500.load_state_dict(torch.load(f'{MODEL_SAVED_PATH}DrBC_G1000_N500_E10000.pth'))\n",
    "\n",
    "model5000 = DrBC()\n",
    "model5000.load_state_dict(torch.load(f'{MODEL_SAVED_PATH}DrBC_G1000_N5000_E5000.pth'))\n",
    "\n",
    "models = [(200, model200), (500, model500), (5000, model5000)]\n",
    "\n",
    "\n",
    "\n",
    "\n",
    "scales = [5000, 10000, 20000]\n",
    "ls_metrics = []\n",
    "for scale in scales:\n",
    "    print('-'*15, scale)\n",
    "    g_list, dg_list, bc_list = prepare_synthetic(30, (scale, scale+1), parallel=True)\n",
    "    for i in range(len(g_list)):\n",
    "        test_X, test_y, test_edge_index = preprocessing_data([g_list[i]], [dg_list[i]], [bc_list[i]])\n",
    "        t_data = [[test_X, test_y, test_edge_index]]\n",
    "        for level, model in models:\n",
    "            model = model.to(device)\n",
    "            _acc1, _acc5, _acc10, _kendall, _time = validate(model, t_data)\n",
    "            ls_metrics.append([scale, level, i, _acc1, _acc5, _acc10, _kendall, _time])\n",
    "\n",
    "\n",
    "t_data = prepare_test('y')\n",
    "for level, model in models:\n",
    "    model = model.to(device)\n",
    "    _acc1, _acc5, _acc10, _kendall, _time = validate(model, t_data)\n",
    "    ls_metrics.append(['youtube', level, 0, _acc1, _acc5, _acc10, _kendall, _time])"
   ]
  },
  {
   "cell_type": "code",
   "execution_count": 4,
   "metadata": {},
   "outputs": [],
   "source": [
    "df = pd.DataFrame(ls_metrics, columns=['scale', 'model', 'test_graph_id', 'test_acc1', 'test_acc5', 'test_acc10', 'test_kendall', 'time'])\n",
    "df.to_csv('test_scale_diff_result.csv', index=False)"
   ]
  }
 ],
 "metadata": {
  "kernelspec": {
   "display_name": "jupyterhub",
   "language": "python",
   "name": "jupyterhub"
  },
  "language_info": {
   "codemirror_mode": {
    "name": "ipython",
    "version": 3
   },
   "file_extension": ".py",
   "mimetype": "text/x-python",
   "name": "python",
   "nbconvert_exporter": "python",
   "pygments_lexer": "ipython3",
   "version": "3.9.13"
  },
  "orig_nbformat": 4
 },
 "nbformat": 4,
 "nbformat_minor": 2
}
