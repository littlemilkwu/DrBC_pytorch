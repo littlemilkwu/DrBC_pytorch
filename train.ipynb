{
 "cells": [
  {
   "cell_type": "code",
   "execution_count": 1,
   "metadata": {},
   "outputs": [],
   "source": [
    "import math\n",
    "import numpy as np\n",
    "import networkx as nx\n",
    "import pandas as pd\n",
    "import matplotlib.pyplot as plt\n",
    "import time\n",
    "from tqdm.notebook import tqdm"
   ]
  },
  {
   "cell_type": "code",
   "execution_count": 2,
   "metadata": {},
   "outputs": [],
   "source": [
    "from utils import read_test_data\n",
    "from utils import gen_graph\n",
    "from utils import prepare_synthetic\n",
    "from utils import shuffle_graph\n",
    "from utils import preprocessing_data\n",
    "from utils import get_pairwise_ids\n",
    "\n",
    "from utils import prepare_test\n",
    "from utils import top_n_acc\n",
    "from utils import validate"
   ]
  },
  {
   "cell_type": "code",
   "execution_count": 3,
   "metadata": {},
   "outputs": [],
   "source": [
    "RANDOM_STATE = 11\n",
    "# SYNTHETIC_NUM = 16\n",
    "SYNTHETIC_NUM = 1000\n",
    "\n",
    "\n",
    "# number of gen nodes\n",
    "# NUM_MIN = 4000\n",
    "# NUM_MAX = 4001\n",
    "NUM_MIN = 500\n",
    "NUM_MAX = 501\n",
    "IS_PARALLEL = True if NUM_MIN >= 1000 else False\n",
    "\n",
    "\n",
    "MAX_EPOCHS = 10000\n",
    "LEARNING_RATE = 1e-4\n",
    "EMBEDDING_SIZE = 128\n",
    "DEPTH = 5\n",
    "BATCH_SIZE = 16\n",
    "\n",
    "TEST1_NUM = 30\n",
    "\n",
    "MODEL_SAVED_PATH = \"saved_model/\""
   ]
  },
  {
   "attachments": {},
   "cell_type": "markdown",
   "metadata": {},
   "source": [
    "## Read Graph"
   ]
  },
  {
   "cell_type": "code",
   "execution_count": 4,
   "metadata": {},
   "outputs": [],
   "source": [
    "test1_g, test1_bc, test1_edgeindex = read_test_data(0)"
   ]
  },
  {
   "attachments": {},
   "cell_type": "markdown",
   "metadata": {},
   "source": [
    "## Generate Synthetic Graph"
   ]
  },
  {
   "cell_type": "code",
   "execution_count": 5,
   "metadata": {},
   "outputs": [
    {
     "name": "stdout",
     "output_type": "stream",
     "text": [
      "1983\n"
     ]
    }
   ],
   "source": [
    "train_g = gen_graph(500, 501)\n",
    "print(len(train_g.edges()))"
   ]
  },
  {
   "cell_type": "code",
   "execution_count": 6,
   "metadata": {},
   "outputs": [],
   "source": [
    "# [train_g.degree(i) for i in range(train_g.number_of_nodes())]"
   ]
  },
  {
   "cell_type": "code",
   "execution_count": 7,
   "metadata": {},
   "outputs": [],
   "source": [
    "# nx.betweenness_centrality(train_g)"
   ]
  },
  {
   "cell_type": "code",
   "execution_count": 8,
   "metadata": {},
   "outputs": [],
   "source": [
    "# (np.array(list(train_g.edges())) + 100)[:10]"
   ]
  },
  {
   "cell_type": "code",
   "execution_count": 9,
   "metadata": {},
   "outputs": [],
   "source": [
    "# nx.betweenness_centrality(train_g)"
   ]
  },
  {
   "attachments": {},
   "cell_type": "markdown",
   "metadata": {},
   "source": [
    "## DrBC"
   ]
  },
  {
   "cell_type": "code",
   "execution_count": 10,
   "metadata": {},
   "outputs": [],
   "source": [
    "# from model1 import DrBC\n",
    "from model import DrBC\n",
    "import torch\n",
    "device = torch.device('cuda' if torch.cuda.is_available() else 'cpu')"
   ]
  },
  {
   "cell_type": "code",
   "execution_count": 11,
   "metadata": {},
   "outputs": [],
   "source": [
    "model = DrBC().to(device)\n",
    "optim = torch.optim.Adam(model.parameters(), lr=LEARNING_RATE)\n",
    "loss_fn = torch.nn.BCEWithLogitsLoss(reduction='mean')"
   ]
  },
  {
   "cell_type": "code",
   "execution_count": 12,
   "metadata": {},
   "outputs": [
    {
     "data": {
      "text/plain": [
       "<bound method Module.parameters of DrBC(\n",
       "  (linear0): Linear(in_features=3, out_features=128, bias=True)\n",
       "  (gcn): GCNConv()\n",
       "  (gru): GRUCell(128, 128)\n",
       "  (mlp): Sequential(\n",
       "    (0): Linear(in_features=128, out_features=64, bias=True)\n",
       "    (1): LeakyReLU(negative_slope=0.01)\n",
       "    (2): Linear(in_features=64, out_features=1, bias=True)\n",
       "  )\n",
       ")>"
      ]
     },
     "execution_count": 12,
     "metadata": {},
     "output_type": "execute_result"
    }
   ],
   "source": [
    "model.parameters"
   ]
  },
  {
   "cell_type": "code",
   "execution_count": 13,
   "metadata": {},
   "outputs": [],
   "source": [
    "# list(model.parameters())[9].grad.data"
   ]
  },
  {
   "cell_type": "code",
   "execution_count": 14,
   "metadata": {},
   "outputs": [
    {
     "name": "stdout",
     "output_type": "stream",
     "text": [
      "pm0 shape: torch.Size([128, 3])\n",
      "pm1 shape: torch.Size([128])\n",
      "pm2 shape: torch.Size([384, 128])\n",
      "pm3 shape: torch.Size([384, 128])\n",
      "pm4 shape: torch.Size([384])\n",
      "pm5 shape: torch.Size([384])\n",
      "pm6 shape: torch.Size([64, 128])\n",
      "pm7 shape: torch.Size([64])\n",
      "pm8 shape: torch.Size([1, 64])\n",
      "pm9 shape: torch.Size([1])\n"
     ]
    }
   ],
   "source": [
    "pm = list(model.parameters())\n",
    "\n",
    "for i, p in enumerate(pm):\n",
    "    print(f\"pm{i} shape: {p.shape}\")"
   ]
  },
  {
   "cell_type": "code",
   "execution_count": 15,
   "metadata": {},
   "outputs": [
    {
     "data": {
      "application/vnd.jupyter.widget-view+json": {
       "model_id": "240016c5a33347fa8c7a75808759ecd9",
       "version_major": 2,
       "version_minor": 0
      },
      "text/plain": [
       "[Generating new training graph]:   0%|          | 0/1000 [00:00<?, ?it/s]"
      ]
     },
     "metadata": {},
     "output_type": "display_data"
    },
    {
     "data": {
      "application/vnd.jupyter.widget-view+json": {
       "model_id": "ca3f84665955418f9bdff029d4482d7d",
       "version_major": 2,
       "version_minor": 0
      },
      "text/plain": [
       "[Reading test1 graph]:   0%|          | 0/30 [00:00<?, ?it/s]"
      ]
     },
     "metadata": {},
     "output_type": "display_data"
    },
    {
     "data": {
      "application/vnd.jupyter.widget-view+json": {
       "model_id": "f10ecaf893204b1d99f8b9ead5de0508",
       "version_major": 2,
       "version_minor": 0
      },
      "text/plain": [
       "Epochs:   0%|          | 0/10000 [00:00<?, ?it/s]"
      ]
     },
     "metadata": {},
     "output_type": "display_data"
    },
    {
     "name": "stdout",
     "output_type": "stream",
     "text": [
      "[0] Val Acc1: 94.67 % | Acc5: 91.64 % | Acc10: 88.81 % | KendallTau: 0.6560 | spend: 0.19 secs\n",
      "--------------------------------------------------\n",
      "[500] Val Acc1: 95.80 % | Acc5: 93.07 % | Acc10: 91.15 % | KendallTau: 0.7683 | spend: 0.19 secs\n",
      "--------------------------------------------------\n",
      "[1000] Val Acc1: 95.87 % | Acc5: 92.93 % | Acc10: 90.95 % | KendallTau: 0.7616 | spend: 0.19 secs\n",
      "--------------------------------------------------\n",
      "[1500] Val Acc1: 96.00 % | Acc5: 92.84 % | Acc10: 90.85 % | KendallTau: 0.7671 | spend: 0.19 secs\n",
      "--------------------------------------------------\n",
      "[2000] Val Acc1: 96.00 % | Acc5: 92.91 % | Acc10: 91.11 % | KendallTau: 0.7761 | spend: 0.19 secs\n",
      "--------------------------------------------------\n",
      "[2500] Val Acc1: 95.87 % | Acc5: 92.85 % | Acc10: 91.00 % | KendallTau: 0.7766 | spend: 0.19 secs\n",
      "--------------------------------------------------\n",
      "[3000] Val Acc1: 95.93 % | Acc5: 92.59 % | Acc10: 90.63 % | KendallTau: 0.7706 | spend: 0.19 secs\n",
      "--------------------------------------------------\n",
      "[3500] Val Acc1: 96.00 % | Acc5: 92.71 % | Acc10: 91.08 % | KendallTau: 0.7821 | spend: 0.19 secs\n",
      "--------------------------------------------------\n",
      "[4000] Val Acc1: 95.87 % | Acc5: 92.75 % | Acc10: 91.09 % | KendallTau: 0.7829 | spend: 0.19 secs\n",
      "--------------------------------------------------\n",
      "[4500] Val Acc1: 95.93 % | Acc5: 92.68 % | Acc10: 91.07 % | KendallTau: 0.7902 | spend: 0.19 secs\n",
      "--------------------------------------------------\n"
     ]
    },
    {
     "data": {
      "application/vnd.jupyter.widget-view+json": {
       "model_id": "0fb4a9f729b8459087a3e76cd3a6b985",
       "version_major": 2,
       "version_minor": 0
      },
      "text/plain": [
       "[Generating new training graph]:   0%|          | 0/1000 [00:00<?, ?it/s]"
      ]
     },
     "metadata": {},
     "output_type": "display_data"
    },
    {
     "name": "stdout",
     "output_type": "stream",
     "text": [
      "[5000] Val Acc1: 96.27 % | Acc5: 92.23 % | Acc10: 90.65 % | KendallTau: 0.7830 | spend: 0.19 secs\n",
      "--------------------------------------------------\n",
      "[5500] Val Acc1: 96.20 % | Acc5: 92.32 % | Acc10: 91.07 % | KendallTau: 0.7897 | spend: 0.19 secs\n",
      "--------------------------------------------------\n",
      "[6000] Val Acc1: 96.13 % | Acc5: 92.36 % | Acc10: 91.09 % | KendallTau: 0.7862 | spend: 0.19 secs\n",
      "--------------------------------------------------\n",
      "[6500] Val Acc1: 96.20 % | Acc5: 92.51 % | Acc10: 91.33 % | KendallTau: 0.7943 | spend: 0.19 secs\n",
      "--------------------------------------------------\n",
      "[7000] Val Acc1: 96.47 % | Acc5: 92.39 % | Acc10: 91.22 % | KendallTau: 0.7935 | spend: 0.19 secs\n",
      "--------------------------------------------------\n",
      "[7500] Val Acc1: 96.33 % | Acc5: 92.53 % | Acc10: 91.26 % | KendallTau: 0.7848 | spend: 0.19 secs\n",
      "--------------------------------------------------\n",
      "[8000] Val Acc1: 96.40 % | Acc5: 92.39 % | Acc10: 91.31 % | KendallTau: 0.7846 | spend: 0.19 secs\n",
      "--------------------------------------------------\n",
      "[8500] Val Acc1: 96.33 % | Acc5: 92.29 % | Acc10: 91.20 % | KendallTau: 0.7875 | spend: 0.19 secs\n",
      "--------------------------------------------------\n",
      "[9000] Val Acc1: 96.33 % | Acc5: 92.32 % | Acc10: 91.23 % | KendallTau: 0.7852 | spend: 0.19 secs\n",
      "--------------------------------------------------\n",
      "[9500] Val Acc1: 96.40 % | Acc5: 92.31 % | Acc10: 91.19 % | KendallTau: 0.7831 | spend: 0.19 secs\n",
      "--------------------------------------------------\n",
      "[10000] Val Acc1: 96.33 % | Acc5: 92.31 % | Acc10: 91.22 % | KendallTau: 0.7865 | spend: 0.19 secs\n",
      "--------------------------------------------------\n"
     ]
    }
   ],
   "source": [
    "def train(model, optim, loss_fn, epochs:int):\n",
    "    g_list, dg_list, bc_list  = prepare_synthetic(SYNTHETIC_NUM, (NUM_MIN, NUM_MAX), IS_PARALLEL)\n",
    "    v_data = prepare_test(TEST1_NUM)\n",
    "    ls_metric = []\n",
    "    epoch_bar = tqdm(range(epochs), desc=\"Epochs\")\n",
    "    for e in epoch_bar:\n",
    "        if (e % 5000 == 0) and (e != 0):\n",
    "            # re generate synthetic graph\n",
    "            g_list, dg_list, bc_list  = prepare_synthetic(SYNTHETIC_NUM, (NUM_MIN, NUM_MAX), IS_PARALLEL)\n",
    "        model.train()\n",
    "        g_list, dg_list, bc_list = shuffle_graph(g_list, dg_list, bc_list)\n",
    "        train_g, train_dg, train_bc = g_list[:16], dg_list[:16], bc_list[:16]\n",
    "        X, y, edge_index = preprocessing_data(train_g, train_dg, train_bc)\n",
    "        X, y, edge_index = X.to(device), y.to(device), edge_index.to(device)\n",
    "        out = model(X, edge_index)\n",
    "\n",
    "        # pairwise-loss\n",
    "        s_ids, t_ids = get_pairwise_ids(train_g)\n",
    "        out_diff = out[s_ids] - out[t_ids]\n",
    "        y_diff = y[s_ids] - y[t_ids]\n",
    "        loss = loss_fn(out_diff, torch.sigmoid(y_diff))\n",
    "\n",
    "        # optim\n",
    "        optim.zero_grad()\n",
    "        loss.backward()\n",
    "        optim.step()\n",
    "\n",
    "        epoch_bar.set_postfix(loss=loss.item())\n",
    "        if e % 500 == 0:\n",
    "            # validate\n",
    "            val_acc1, val_acc5, val_acc10, val_kendall, time_spent = validate(model, v_data)\n",
    "            ls_metric.append([e, val_acc1, val_acc5, val_acc10, val_kendall, time_spent])\n",
    "            print(f\"[{e}] Val Acc1: {val_acc1 * 100:.2f} % | Acc5: {val_acc5 * 100:.2f} % | Acc10: {val_acc10 * 100:.2f} % | KendallTau: {val_kendall:.4f} | spend: {time_spent} secs\")\n",
    "            print('-'*50)\n",
    "\n",
    "    # last time \n",
    "    val_acc1, val_acc5, val_acc10, val_kendall, time_spent = validate(model, v_data)\n",
    "    ls_metric.append([epochs, val_acc1, val_acc5, val_acc10, val_kendall, time_spent])\n",
    "    print(f\"[{epochs}] Val Acc1: {val_acc1 * 100:.2f} % | Acc5: {val_acc5 * 100:.2f} % | Acc10: {val_acc10 * 100:.2f} % | KendallTau: {val_kendall:.4f} | spend: {time_spent} secs\")\n",
    "    print('-'*50)\n",
    "\n",
    "    return ls_metric\n",
    "\n",
    "train_metric = train(model, optim, loss_fn, MAX_EPOCHS)"
   ]
  },
  {
   "attachments": {},
   "cell_type": "markdown",
   "metadata": {},
   "source": [
    "### Save model / train_loss"
   ]
  },
  {
   "cell_type": "code",
   "execution_count": 16,
   "metadata": {},
   "outputs": [
    {
     "data": {
      "text/html": [
       "<div>\n",
       "<style scoped>\n",
       "    .dataframe tbody tr th:only-of-type {\n",
       "        vertical-align: middle;\n",
       "    }\n",
       "\n",
       "    .dataframe tbody tr th {\n",
       "        vertical-align: top;\n",
       "    }\n",
       "\n",
       "    .dataframe thead th {\n",
       "        text-align: right;\n",
       "    }\n",
       "</style>\n",
       "<table border=\"1\" class=\"dataframe\">\n",
       "  <thead>\n",
       "    <tr style=\"text-align: right;\">\n",
       "      <th></th>\n",
       "      <th>epochs</th>\n",
       "      <th>val_acc1</th>\n",
       "      <th>val_acc5</th>\n",
       "      <th>val_acc10</th>\n",
       "      <th>val_kendall</th>\n",
       "      <th>time</th>\n",
       "    </tr>\n",
       "  </thead>\n",
       "  <tbody>\n",
       "    <tr>\n",
       "      <th>0</th>\n",
       "      <td>0</td>\n",
       "      <td>0.946667</td>\n",
       "      <td>0.916400</td>\n",
       "      <td>0.888067</td>\n",
       "      <td>0.655963</td>\n",
       "      <td>0.19</td>\n",
       "    </tr>\n",
       "    <tr>\n",
       "      <th>1</th>\n",
       "      <td>500</td>\n",
       "      <td>0.958000</td>\n",
       "      <td>0.930667</td>\n",
       "      <td>0.911467</td>\n",
       "      <td>0.768302</td>\n",
       "      <td>0.19</td>\n",
       "    </tr>\n",
       "    <tr>\n",
       "      <th>2</th>\n",
       "      <td>1000</td>\n",
       "      <td>0.958667</td>\n",
       "      <td>0.929333</td>\n",
       "      <td>0.909533</td>\n",
       "      <td>0.761626</td>\n",
       "      <td>0.19</td>\n",
       "    </tr>\n",
       "    <tr>\n",
       "      <th>3</th>\n",
       "      <td>1500</td>\n",
       "      <td>0.960000</td>\n",
       "      <td>0.928400</td>\n",
       "      <td>0.908467</td>\n",
       "      <td>0.767122</td>\n",
       "      <td>0.19</td>\n",
       "    </tr>\n",
       "    <tr>\n",
       "      <th>4</th>\n",
       "      <td>2000</td>\n",
       "      <td>0.960000</td>\n",
       "      <td>0.929067</td>\n",
       "      <td>0.911133</td>\n",
       "      <td>0.776095</td>\n",
       "      <td>0.19</td>\n",
       "    </tr>\n",
       "    <tr>\n",
       "      <th>5</th>\n",
       "      <td>2500</td>\n",
       "      <td>0.958667</td>\n",
       "      <td>0.928533</td>\n",
       "      <td>0.910000</td>\n",
       "      <td>0.776620</td>\n",
       "      <td>0.19</td>\n",
       "    </tr>\n",
       "    <tr>\n",
       "      <th>6</th>\n",
       "      <td>3000</td>\n",
       "      <td>0.959333</td>\n",
       "      <td>0.925867</td>\n",
       "      <td>0.906333</td>\n",
       "      <td>0.770584</td>\n",
       "      <td>0.19</td>\n",
       "    </tr>\n",
       "    <tr>\n",
       "      <th>7</th>\n",
       "      <td>3500</td>\n",
       "      <td>0.960000</td>\n",
       "      <td>0.927067</td>\n",
       "      <td>0.910800</td>\n",
       "      <td>0.782054</td>\n",
       "      <td>0.19</td>\n",
       "    </tr>\n",
       "    <tr>\n",
       "      <th>8</th>\n",
       "      <td>4000</td>\n",
       "      <td>0.958667</td>\n",
       "      <td>0.927467</td>\n",
       "      <td>0.910933</td>\n",
       "      <td>0.782850</td>\n",
       "      <td>0.19</td>\n",
       "    </tr>\n",
       "    <tr>\n",
       "      <th>9</th>\n",
       "      <td>4500</td>\n",
       "      <td>0.959333</td>\n",
       "      <td>0.926800</td>\n",
       "      <td>0.910667</td>\n",
       "      <td>0.790206</td>\n",
       "      <td>0.19</td>\n",
       "    </tr>\n",
       "    <tr>\n",
       "      <th>10</th>\n",
       "      <td>5000</td>\n",
       "      <td>0.962667</td>\n",
       "      <td>0.922267</td>\n",
       "      <td>0.906467</td>\n",
       "      <td>0.783040</td>\n",
       "      <td>0.19</td>\n",
       "    </tr>\n",
       "    <tr>\n",
       "      <th>11</th>\n",
       "      <td>5500</td>\n",
       "      <td>0.962000</td>\n",
       "      <td>0.923200</td>\n",
       "      <td>0.910667</td>\n",
       "      <td>0.789719</td>\n",
       "      <td>0.19</td>\n",
       "    </tr>\n",
       "    <tr>\n",
       "      <th>12</th>\n",
       "      <td>6000</td>\n",
       "      <td>0.961333</td>\n",
       "      <td>0.923600</td>\n",
       "      <td>0.910933</td>\n",
       "      <td>0.786249</td>\n",
       "      <td>0.19</td>\n",
       "    </tr>\n",
       "    <tr>\n",
       "      <th>13</th>\n",
       "      <td>6500</td>\n",
       "      <td>0.962000</td>\n",
       "      <td>0.925067</td>\n",
       "      <td>0.913267</td>\n",
       "      <td>0.794267</td>\n",
       "      <td>0.19</td>\n",
       "    </tr>\n",
       "    <tr>\n",
       "      <th>14</th>\n",
       "      <td>7000</td>\n",
       "      <td>0.964667</td>\n",
       "      <td>0.923867</td>\n",
       "      <td>0.912200</td>\n",
       "      <td>0.793465</td>\n",
       "      <td>0.19</td>\n",
       "    </tr>\n",
       "    <tr>\n",
       "      <th>15</th>\n",
       "      <td>7500</td>\n",
       "      <td>0.963333</td>\n",
       "      <td>0.925333</td>\n",
       "      <td>0.912600</td>\n",
       "      <td>0.784758</td>\n",
       "      <td>0.19</td>\n",
       "    </tr>\n",
       "    <tr>\n",
       "      <th>16</th>\n",
       "      <td>8000</td>\n",
       "      <td>0.964000</td>\n",
       "      <td>0.923867</td>\n",
       "      <td>0.913067</td>\n",
       "      <td>0.784563</td>\n",
       "      <td>0.19</td>\n",
       "    </tr>\n",
       "    <tr>\n",
       "      <th>17</th>\n",
       "      <td>8500</td>\n",
       "      <td>0.963333</td>\n",
       "      <td>0.922933</td>\n",
       "      <td>0.912000</td>\n",
       "      <td>0.787457</td>\n",
       "      <td>0.19</td>\n",
       "    </tr>\n",
       "    <tr>\n",
       "      <th>18</th>\n",
       "      <td>9000</td>\n",
       "      <td>0.963333</td>\n",
       "      <td>0.923200</td>\n",
       "      <td>0.912267</td>\n",
       "      <td>0.785243</td>\n",
       "      <td>0.19</td>\n",
       "    </tr>\n",
       "    <tr>\n",
       "      <th>19</th>\n",
       "      <td>9500</td>\n",
       "      <td>0.964000</td>\n",
       "      <td>0.923067</td>\n",
       "      <td>0.911933</td>\n",
       "      <td>0.783070</td>\n",
       "      <td>0.19</td>\n",
       "    </tr>\n",
       "    <tr>\n",
       "      <th>20</th>\n",
       "      <td>10000</td>\n",
       "      <td>0.963333</td>\n",
       "      <td>0.923067</td>\n",
       "      <td>0.912200</td>\n",
       "      <td>0.786463</td>\n",
       "      <td>0.19</td>\n",
       "    </tr>\n",
       "  </tbody>\n",
       "</table>\n",
       "</div>"
      ],
      "text/plain": [
       "    epochs  val_acc1  val_acc5  val_acc10  val_kendall  time\n",
       "0        0  0.946667  0.916400   0.888067     0.655963  0.19\n",
       "1      500  0.958000  0.930667   0.911467     0.768302  0.19\n",
       "2     1000  0.958667  0.929333   0.909533     0.761626  0.19\n",
       "3     1500  0.960000  0.928400   0.908467     0.767122  0.19\n",
       "4     2000  0.960000  0.929067   0.911133     0.776095  0.19\n",
       "5     2500  0.958667  0.928533   0.910000     0.776620  0.19\n",
       "6     3000  0.959333  0.925867   0.906333     0.770584  0.19\n",
       "7     3500  0.960000  0.927067   0.910800     0.782054  0.19\n",
       "8     4000  0.958667  0.927467   0.910933     0.782850  0.19\n",
       "9     4500  0.959333  0.926800   0.910667     0.790206  0.19\n",
       "10    5000  0.962667  0.922267   0.906467     0.783040  0.19\n",
       "11    5500  0.962000  0.923200   0.910667     0.789719  0.19\n",
       "12    6000  0.961333  0.923600   0.910933     0.786249  0.19\n",
       "13    6500  0.962000  0.925067   0.913267     0.794267  0.19\n",
       "14    7000  0.964667  0.923867   0.912200     0.793465  0.19\n",
       "15    7500  0.963333  0.925333   0.912600     0.784758  0.19\n",
       "16    8000  0.964000  0.923867   0.913067     0.784563  0.19\n",
       "17    8500  0.963333  0.922933   0.912000     0.787457  0.19\n",
       "18    9000  0.963333  0.923200   0.912267     0.785243  0.19\n",
       "19    9500  0.964000  0.923067   0.911933     0.783070  0.19\n",
       "20   10000  0.963333  0.923067   0.912200     0.786463  0.19"
      ]
     },
     "execution_count": 16,
     "metadata": {},
     "output_type": "execute_result"
    }
   ],
   "source": [
    "model_saved_name = f'{MODEL_SAVED_PATH}DrBC_G{SYNTHETIC_NUM}_N{NUM_MIN}_E{MAX_EPOCHS}.pth'\n",
    "torch.save(model.state_dict(), model_saved_name)\n",
    "\n",
    "# train\n",
    "df = pd.DataFrame(train_metric, columns=['epochs', 'val_acc1', 'val_acc5', 'val_acc10', 'val_kendall', 'time'])\n",
    "df.to_csv(f\"{MODEL_SAVED_PATH}train_metrics_G{SYNTHETIC_NUM}_N{NUM_MIN}_E{MAX_EPOCHS}.csv\", index=False)\n",
    "df"
   ]
  },
  {
   "attachments": {},
   "cell_type": "markdown",
   "metadata": {},
   "source": [
    "### Check loading model"
   ]
  },
  {
   "cell_type": "code",
   "execution_count": 17,
   "metadata": {},
   "outputs": [
    {
     "data": {
      "text/plain": [
       "<All keys matched successfully>"
      ]
     },
     "execution_count": 17,
     "metadata": {},
     "output_type": "execute_result"
    }
   ],
   "source": [
    "model = DrBC().to(device)\n",
    "model.load_state_dict(torch.load(model_saved_name))"
   ]
  },
  {
   "cell_type": "code",
   "execution_count": 18,
   "metadata": {},
   "outputs": [],
   "source": [
    "# G1000_N200_E10000\n",
    "# acc: \n",
    "# 0.600546\n",
    "# 0.601509\n",
    "# 0.636026\n",
    "# kendall:  0.527324\n",
    "\n",
    "# G1000_N5000_E5000\n",
    "# acc: \n",
    "# 0.61491\n",
    "# 0.633318\n",
    "# 0.66736\n",
    "# kendall:  0.513669"
   ]
  },
  {
   "cell_type": "code",
   "execution_count": 19,
   "metadata": {},
   "outputs": [],
   "source": [
    "# synthetic graph num: 100\n",
    "# synthetic node num: 200\n",
    "# epoch: 200\n",
    "\n",
    "\n",
    "# with L2 norm\n",
    "# acc: \n",
    "# 0.613588\n",
    "# 0.495506\n",
    "# 0.302029\n",
    "# kendall:  -0.435382\n",
    "\n",
    "# without L2 norm + bc apply log\n",
    "# 0.615791\n",
    "# 0.618709\n",
    "# 0.643578\n",
    "# kendall:  0.288244\n"
   ]
  },
  {
   "attachments": {},
   "cell_type": "markdown",
   "metadata": {},
   "source": [
    "## To-Do List\n",
    "* (done) loss_fn 再加上 sigmoid\n",
    "* (done) pairwise 目前跨圖了\n",
    "* (done) h 要 normalized\n",
    "* (done) aggregate 改成 MessagePassing\n",
    "* (done) synthetic graph 後，shuffle graph 的順序\n",
    "* (done) 加入 Epochs\"\n",
    "* (done) change to leaky relu\n",
    "* (done) Metric: top1, 5, 10\n",
    "* (done) Metric: kendall tau distance\n",
    "* (done) wall-clock running time\n",
    "* (done) test step\n"
   ]
  },
  {
   "cell_type": "code",
   "execution_count": null,
   "metadata": {},
   "outputs": [],
   "source": []
  }
 ],
 "metadata": {
  "kernelspec": {
   "display_name": "jupyterhub",
   "language": "python",
   "name": "jupyterhub"
  },
  "language_info": {
   "codemirror_mode": {
    "name": "ipython",
    "version": 3
   },
   "file_extension": ".py",
   "mimetype": "text/x-python",
   "name": "python",
   "nbconvert_exporter": "python",
   "pygments_lexer": "ipython3",
   "version": "3.9.13"
  },
  "orig_nbformat": 4
 },
 "nbformat": 4,
 "nbformat_minor": 2
}
