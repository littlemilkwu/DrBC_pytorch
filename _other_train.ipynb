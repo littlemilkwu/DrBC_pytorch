{
  "cells": [
    {
      "cell_type": "markdown",
      "metadata": {
        "colab_type": "text",
        "id": "view-in-github"
      },
      "source": [
        "<a href=\"https://colab.research.google.com/github/emschenn/mlg_hw1/blob/master/DrBC.ipynb\" target=\"_parent\"><img src=\"https://colab.research.google.com/assets/colab-badge.svg\" alt=\"Open In Colab\"/></a>"
      ]
    },
    {
      "cell_type": "code",
      "execution_count": 1,
      "metadata": {
        "colab": {
          "base_uri": "https://localhost:8080/",
          "height": 87
        },
        "colab_type": "code",
        "id": "4L2aR86_BBrc",
        "outputId": "04d995b7-ae52-4988-d8e8-af16c327d153",
        "vscode": {
          "languageId": "python"
        }
      },
      "outputs": [
        {
          "name": "stdout",
          "output_type": "stream",
          "text": [
            "tensor([[0.0353],\n",
            "        [0.0383],\n",
            "        [0.0375],\n",
            "        [0.0450]], grad_fn=<AddmmBackward0>)\n"
          ]
        }
      ],
      "source": [
        "# prepare model\n",
        "import torch\n",
        "import torch.nn as nn\n",
        "from torch_geometric.nn import MessagePassing\n",
        "from torch_geometric.utils import add_self_loops, degree\n",
        "\n",
        "class GCNConv(MessagePassing):\n",
        "    def __init__(self, in_channels, out_channels):\n",
        "        super(GCNConv, self).__init__(aggr='add')  # \"Add\" aggregation.\n",
        "        self.lin = torch.nn.Linear(in_channels, out_channels)\n",
        "\n",
        "    def forward(self, x, edge_index):\n",
        "        # x has shape [N, in_channels]\n",
        "        # edge_index has shape [2, E]\n",
        "\n",
        "        # Step 1: Add self-loops to the adjacency matrix.\n",
        "        edge_index, _ = add_self_loops(edge_index, num_nodes=x.size(0))\n",
        "        # Step 2: Linearly transform node feature matrix.\n",
        "        x = self.lin(x)\n",
        "        # Step 3: Compute normalization\n",
        "        row, col = edge_index\n",
        "        deg = degree(row, x.size(0), dtype=x.dtype)\n",
        "        deg_inv_sqrt = deg.pow(-0.5)\n",
        "        norm = deg_inv_sqrt[row] * deg_inv_sqrt[col]\n",
        "        # Step 4-6: Start propagating messages.\n",
        "        return self.propagate(edge_index, size=(x.size(0), x.size(0)), x=x, norm=norm)\n",
        "\n",
        "    def message(self, x_j, norm):\n",
        "        # x_j has shape [E, out_channels]\n",
        "        # Step 4: Normalize node features.\n",
        "        return norm.view(-1, 1) * x_j\n",
        "\n",
        "    def update(self, aggr_out):\n",
        "        # aggr_out has shape [N, out_channels]\n",
        "        # Step 6: Return new node embeddings.\n",
        "        return aggr_out\n",
        "\n",
        "class DrBC(nn.Module):\n",
        "    def __init__(self,):\n",
        "        super(DrBC, self).__init__()\n",
        "        # Encoder\n",
        "        self.fc1 = nn.Linear(3, 128)\n",
        "        self.relu = nn.LeakyReLU()\n",
        "\n",
        "        self.gcn1 = GCNConv(128, 128)\n",
        "        self.gru1 = nn.GRU(128, 128)\n",
        "\n",
        "        self.gcn2 = GCNConv(128, 128)\n",
        "        self.gru2 = nn.GRU(128, 128)\n",
        "\n",
        "        self.gcn3 = GCNConv(128, 128)\n",
        "        self.gru3 = nn.GRU(128, 128)\n",
        "\n",
        "        self.gcn4 = GCNConv(128, 128)\n",
        "        self.gru4 = nn.GRU(128, 128)\n",
        "\n",
        "        self.gcn5 = GCNConv(128, 128)\n",
        "        self.gru5 = nn.GRU(128, 128)\n",
        "\n",
        "        # Decoder\n",
        "        self.fc2 = nn.Linear(128, 64)\n",
        "        self.relu2 = nn.LeakyReLU()\n",
        "        self.fc3 = nn.Linear(64, 1)\n",
        "\n",
        "    def forward(self, x, edge_index):\n",
        "        x = self.fc1(x)\n",
        "        x = self.relu(x)        \n",
        "        x_n = self.gcn1(x, edge_index)\n",
        "        x1, _ = self.gru1(x_n.view(1, *x_n.shape), x.view(1, *x.shape))\n",
        "        x_n = self.gcn2(x1[0], edge_index)\n",
        "        x2, _ = self.gru2(x_n.view(1, *x_n.shape), x1)\n",
        "        x_n = self.gcn3(x2[0], edge_index)\n",
        "        x3, _ = self.gru3(x_n.view(1, *x_n.shape), x2)\n",
        "        x_n = self.gcn4(x3[0], edge_index)\n",
        "        x4, _ = self.gru4(x_n.view(1, *x_n.shape), x3)\n",
        "        x_n = self.gcn5(x4[0], edge_index)\n",
        "        x5, _ = self.gru5(x_n.view(1, *x_n.shape), x4)\n",
        "        \n",
        "        # max\n",
        "        l = [x1[0],x2[0],x3[0],x4[0],x5[0]]\n",
        "        l = torch.stack(l)\n",
        "        x = torch.max(l, dim=0).values\n",
        "        # l = torch.tensor(l) \n",
        "\n",
        "        # decoder\n",
        "        x = self.fc2(x)\n",
        "        x = self.relu2(x)\n",
        "        x = self.fc3(x)\n",
        "        return x\n",
        "\n",
        "model = DrBC()\n",
        "x = torch.tensor([[2, 1, 1],[2, 1, 1],[2, 1, 1],[2, 1, 1]],dtype=torch.float)\n",
        "    \n",
        "edge_index = torch.tensor([[0,1,2],\n",
        "                            [1,2,3]],dtype=torch.long)\n",
        "print(model(x, edge_index))"
      ]
    },
    {
      "cell_type": "code",
      "execution_count": 2,
      "metadata": {
        "colab": {},
        "colab_type": "code",
        "id": "coqKzFtgL6gb",
        "vscode": {
          "languageId": "python"
        }
      },
      "outputs": [
        {
          "data": {
            "text/plain": [
              "'\\ng = Graph(16)\\nprint(g.get_deg_list().shape)\\nprint(g.get_edge_index().shape)\\nprint(g.get_bc_value().shape)\\nprint(g.get_pair_index())\\n'"
            ]
          },
          "execution_count": 2,
          "metadata": {},
          "output_type": "execute_result"
        }
      ],
      "source": [
        "# prepare data\n",
        "import numpy as np\n",
        "import networkx as nx\n",
        "import random \n",
        "import math\n",
        "\n",
        "class Graph():\n",
        "  def __init__(self,batch_size):\n",
        "    self.graph_list=[]\n",
        "    for x in range(batch_size):\n",
        "      g = nx.powerlaw_cluster_graph(n=random.randint(150,200) , m=4, p=0.05, seed=None)\n",
        "      self.graph_list.append(g)\n",
        "\n",
        "  def get_deg_list(self):\n",
        "    deg_list = []\n",
        "    for g in self.graph_list:\n",
        "      for x in range(g.number_of_nodes()):\n",
        "        deg_list.append([g.degree[x],1,1])\n",
        "    return torch.Tensor(deg_list).cuda()\n",
        "\n",
        "  def get_edge_index(self):\n",
        "    s_list,t_list,en = [],[],0\n",
        "    for g in self.graph_list:\n",
        "      for e in g.edges():\n",
        "        s,t = e\n",
        "        s_list.append(s+en)\n",
        "        t_list.append(t+en)\n",
        "      en += g.number_of_nodes()\n",
        "    edge_index=[s_list+t_list,t_list+s_list]\n",
        "    return torch.tensor(edge_index,dtype=torch.long).cuda()\n",
        "\n",
        "  def get_bc_value(self):\n",
        "    bc_value = []\n",
        "    for g in self.graph_list:\n",
        "      bc_value += list(nx.betweenness_centrality(g).values())\n",
        "    for i, x in enumerate(bc_value):\n",
        "      bc_value[i] = math.log(x+1e-8)\n",
        "    return torch.Tensor(bc_value).cuda()\n",
        "\n",
        "  def get_pair_index(self):\n",
        "    n_list1,n_list2,pair_index,en = [],[],[],0\n",
        "    for g in self.graph_list:\n",
        "      for x in range(g.number_of_nodes()):\n",
        "        n_list1 += [en+x,en+x,en+x,en+x,en+x]\n",
        "        n_list2 += [en+x,en+x,en+x,en+x,en+x]\n",
        "      random.shuffle(n_list1)\n",
        "      random.shuffle(n_list2)\n",
        "      for i,j in zip(n_list1,n_list2):\n",
        "        pair_index.append([i,j])\n",
        "      n_list1,n_list2=[],[]\n",
        "    return torch.tensor(pair_index, dtype=torch.long).cuda()\n",
        "\n",
        "\"\"\"\n",
        "g = Graph(16)\n",
        "print(g.get_deg_list().shape)\n",
        "print(g.get_edge_index().shape)\n",
        "print(g.get_bc_value().shape)\n",
        "print(g.get_pair_index())\n",
        "\"\"\""
      ]
    },
    {
      "cell_type": "code",
      "execution_count": 3,
      "metadata": {
        "colab": {
          "base_uri": "https://localhost:8080/",
          "height": 1000
        },
        "colab_type": "code",
        "id": "v9Q3f1fSW8ir",
        "outputId": "3bc31e2e-a126-4201-d4ea-4a66453c1eae",
        "vscode": {
          "languageId": "python"
        }
      },
      "outputs": [
        {
          "name": "stdout",
          "output_type": "stream",
          "text": [
            "tensor([[ 0.7910],\n",
            "        [-0.1227],\n",
            "        [ 0.8191],\n",
            "        [ 0.5104],\n",
            "        [ 1.2235],\n",
            "        [ 0.5936],\n",
            "        [ 0.2875],\n",
            "        [ 0.1840],\n",
            "        [ 0.1133],\n",
            "        [ 0.8620]], device='cuda:0', grad_fn=<SliceBackward0>)\n",
            "tensor([ -2.3077, -18.4207,  -2.1099,  -2.6662,  -1.6539,  -2.5630,  -3.2885,\n",
            "         -4.0480,  -4.4157,  -2.0790], device='cuda:0')\n",
            "[0/501] Loss:8769.5449\n"
          ]
        }
      ],
      "source": [
        "# start training\n",
        "from torch.optim import Adam\n",
        "import torch.nn.functional as F\n",
        "iteration = 501\n",
        "\n",
        "def train():\n",
        "  model = DrBC()\n",
        "  model = model.cuda()\n",
        "  optimizer = Adam(params=model.parameters(), lr=0.0001)\n",
        "  g = Graph(16)\n",
        "  for iter in range(iteration):\n",
        "    if iter % 500 == 0:\n",
        "      g = Graph(16)\n",
        "      bc = g.get_bc_value()\n",
        "    outs = model(g.get_deg_list(),g.get_edge_index())\n",
        "    pair = g.get_pair_index()\n",
        "    pred = outs[pair[:, 0]] - outs[pair[:, 1]]\n",
        "    gt = torch.sigmoid((bc[pair[:, 0]] - bc[pair[:, 1]]))\n",
        "    gt = gt.view(-1, 1)\n",
        "    loss = F.binary_cross_entropy_with_logits(pred, gt, reduction=\"sum\")\n",
        "    if iter % 1000 == 0:\n",
        "      print(outs[:10])\n",
        "      print(bc[:10])\n",
        "      print(\"[{}/{}] Loss:{:.4f}\".format(iter, iteration, loss.item()))\n",
        "    loss.backward()\n",
        "    optimizer.step()\n",
        "  torch.save(model.state_dict(), \"./weight.pth\")\n",
        "  return model\n",
        "\n",
        "model = train()"
      ]
    },
    {
      "cell_type": "code",
      "execution_count": 4,
      "metadata": {
        "colab": {},
        "colab_type": "code",
        "id": "2ylhgWVw4wbk",
        "vscode": {
          "languageId": "python"
        }
      },
      "outputs": [],
      "source": [
        "# Read file\n",
        "import urllib.request  \n",
        "\n",
        "class readFile():\n",
        "  def __init__(self,file):\n",
        "    if file == 'y':\n",
        "      url1 = 'https://raw.githubusercontent.com/emschenn/mlg_hw1/master/hw1_data/youtube/com-youtube.txt' \n",
        "      url2 = 'https://raw.githubusercontent.com/emschenn/mlg_hw1/master/hw1_data/youtube/com-youtube_score.txt' \n",
        "    else:\n",
        "      url1 = 'https://raw.githubusercontent.com/emschenn/mlg_hw1/master/hw1_data/Synthetic/5000/' + file + '.txt'\n",
        "      url2 = 'https://raw.githubusercontent.com/emschenn/mlg_hw1/master/hw1_data/Synthetic/5000/' + file + '_score.txt'\n",
        "    self.bc_value,s_list,t_list,self.deg_list,n = [],[],[],[],0\n",
        "    for line in urllib.request.urlopen(url2):\n",
        "      _,v = line.decode('utf-8').split()\n",
        "      self.bc_value.append([n,math.log(float(v)+1e-8)])\n",
        "      n += 1\n",
        "    for x in range(len(self.bc_value)):\n",
        "      self.deg_list.append([0,1,1])\n",
        "    for line in urllib.request.urlopen(url1):\n",
        "      s,t = line.decode('utf-8').split()\n",
        "      s,t = int(s),int(t)\n",
        "      s_list.append(s)\n",
        "      t_list.append(t)\n",
        "      self.deg_list[s][0]+=1\n",
        "      self.deg_list[t][0]+=1\n",
        "    self.edge_index=[s_list+t_list,t_list+s_list]\n",
        "\n",
        "  def get_deg_list(self):\n",
        "    # print(self.deg_list)\n",
        "    return torch.Tensor(self.deg_list).cuda()\n",
        "\n",
        "  def get_edge_index(self):\n",
        "    # print(self.edge_index)\n",
        "    return torch.tensor(self.edge_index,dtype=torch.long).cuda()\n",
        "\n",
        "  def get_bc_value(self):\n",
        "    # print(self.bc_value)\n",
        "    return self.bc_value.copy()\n"
      ]
    },
    {
      "cell_type": "code",
      "execution_count": 5,
      "metadata": {
        "colab": {
          "base_uri": "https://localhost:8080/",
          "height": 87
        },
        "colab_type": "code",
        "id": "Dg48odOXl7D-",
        "outputId": "d63223ff-32bf-4f50-af57-204bba19d91d",
        "vscode": {
          "languageId": "python"
        }
      },
      "outputs": [
        {
          "name": "stdout",
          "output_type": "stream",
          "text": [
            "0.6049524145223828\n",
            "0.6265332017482025\n",
            "0.6428728775476037\n",
            "0.6153405313188235\n"
          ]
        },
        {
          "name": "stderr",
          "output_type": "stream",
          "text": [
            "/home/littlemilk/miniconda3/envs/jupyterhub/lib/python3.9/site-packages/scipy/stats/_stats_py.py:5218: RuntimeWarning: overflow encountered in long_scalars\n",
            "  (2 * xtie * ytie) / m + x0 * y0 / (9 * m * (size - 2)))\n"
          ]
        }
      ],
      "source": [
        "# Evaluation\n",
        "f = readFile('y')\n",
        "model = model.cpu()\n",
        "t = f.get_deg_list().cpu()\n",
        "t1 = f.get_edge_index().cpu()\n",
        "with torch.no_grad():\n",
        "  outs = model(t,t1)\n",
        "\n",
        "# Top-N % accuracy\n",
        "def takeSecond(elem):\n",
        "    return elem[1]\n",
        "\n",
        "def topN_accuracy(file,outs,n):\n",
        "  predict_value,bc_value = [],[]\n",
        "  for i,j in enumerate(outs.tolist()):\n",
        "    predict_value.append([i,*j])\n",
        "  bc_value = file.get_bc_value()\n",
        "  bc_value.sort(key = takeSecond,reverse = True)\n",
        "  predict_value.sort(key = takeSecond,reverse = True)\n",
        "  p,t = [],[]\n",
        "  for x in range(int(len(predict_value)*n/100)):\n",
        "    p.append(predict_value[x][0])\n",
        "    t.append(bc_value[x][0])\n",
        "  # print(t)\n",
        "  # print(p)\n",
        "  return(len(set(t)&set(p)) / len(p))\n",
        "\n",
        "print(topN_accuracy(f,outs,n=1))\n",
        "print(topN_accuracy(f,outs,n=5))\n",
        "print(topN_accuracy(f,outs,n=10))\n",
        "\n",
        "# Kendall tau\n",
        "import scipy.stats as stats\n",
        "def kendall_tau(file,outs):\n",
        "  predict_value,bc_value = [],[]\n",
        "  for i,j in enumerate(outs.tolist()):\n",
        "    predict_value.append(*j)\n",
        "  for i in file.get_bc_value():\n",
        "    bc_value.append(i[1])\n",
        "  # print(predict_value)\n",
        "  # print(bc_value)\n",
        "  tau, _ = stats.kendalltau(predict_value, bc_value)\n",
        "  return(tau)\n",
        "\n",
        "print(kendall_tau(f,outs))"
      ]
    },
    {
      "cell_type": "code",
      "execution_count": null,
      "metadata": {
        "colab": {},
        "colab_type": "code",
        "id": "Bsts2hgzNLdd",
        "vscode": {
          "languageId": "python"
        }
      },
      "outputs": [],
      "source": []
    }
  ],
  "metadata": {
    "accelerator": "GPU",
    "colab": {
      "authorship_tag": "ABX9TyM0CFqGD5vnu0WhKWC/6G2E",
      "collapsed_sections": [],
      "include_colab_link": true,
      "machine_shape": "hm",
      "name": "MLG:hw1_DrBC.ipynb",
      "provenance": []
    },
    "kernelspec": {
      "display_name": "jupyterhub",
      "language": "python",
      "name": "jupyterhub"
    }
  },
  "nbformat": 4,
  "nbformat_minor": 0
}
