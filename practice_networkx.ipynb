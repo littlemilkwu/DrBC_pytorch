{
 "cells": [
  {
   "cell_type": "code",
   "execution_count": 2,
   "metadata": {},
   "outputs": [],
   "source": [
    "import networkx as nx"
   ]
  },
  {
   "attachments": {},
   "cell_type": "markdown",
   "metadata": {},
   "source": [
    "## Graph"
   ]
  },
  {
   "cell_type": "code",
   "execution_count": 9,
   "metadata": {},
   "outputs": [
    {
     "name": "stdout",
     "output_type": "stream",
     "text": [
      "False\n",
      "True\n",
      "{'name': 'practice graph', 'ano_feature': 1856}\n"
     ]
    }
   ],
   "source": [
    "G = nx.Graph()\n",
    "print(G.is_directed())\n",
    "\n",
    "G = nx.DiGraph()\n",
    "print(G.is_directed())\n",
    "\n",
    "# add a graph level feature\n",
    "G.graph['name'] = 'practice graph'\n",
    "G.graph['ano_feature'] = 1856\n",
    "print(G.graph)"
   ]
  },
  {
   "attachments": {},
   "cell_type": "markdown",
   "metadata": {},
   "source": [
    "## Node"
   ]
  },
  {
   "cell_type": "code",
   "execution_count": 20,
   "metadata": {},
   "outputs": [
    {
     "name": "stdout",
     "output_type": "stream",
     "text": [
      "node 0 attr: {'name': 'littlemilk', 'age': 25}\n",
      "note Bar attr: {'name': 'BarBer', 'age': 19}\n"
     ]
    }
   ],
   "source": [
    "# 參數 key, value 皆可以自己設定\n",
    "G.add_node(0, name='littlemilk', age=25)\n",
    "print(f\"node 0 attr: {G.nodes[0]}\")\n",
    "\n",
    "# 建立節點的 index 也可以是非數值格式\n",
    "G.add_node('Bar', name='BarBer', age=19)\n",
    "print(f\"note Bar attr: {G.nodes['Bar']}\")"
   ]
  },
  {
   "cell_type": "code",
   "execution_count": 29,
   "metadata": {},
   "outputs": [
    {
     "name": "stdout",
     "output_type": "stream",
     "text": [
      "Get all nodes label: [0, 'Bar', 1, 2]\n",
      "\n",
      "(0, {'name': 'littlemilk', 'age': 25})\n",
      "('Bar', {'name': 'BarBer', 'age': 19})\n",
      "(1, {'name': 'Lisa', 'age': 22})\n",
      "(2, {'name': 'sara', 'age': 40})\n",
      "The number of nodes are 4\n"
     ]
    }
   ],
   "source": [
    "# add multiple nodes\n",
    "G.add_nodes_from([\n",
    "    (1, {'name': 'Lisa', 'age': 22}),\n",
    "    (2, {'name': 'sara', 'age': 40})\n",
    "])\n",
    "\n",
    "print(f\"Get all nodes label: {G.nodes()}\", end='\\n\\n')\n",
    "\n",
    "for node in G.nodes(data=True):\n",
    "    print(node)\n",
    "\n",
    "# get number of nodes\n",
    "print(f\"The number of nodes are {G.number_of_nodes()}\")"
   ]
  },
  {
   "attachments": {},
   "cell_type": "markdown",
   "metadata": {},
   "source": [
    "## Edge"
   ]
  },
  {
   "cell_type": "code",
   "execution_count": 35,
   "metadata": {},
   "outputs": [
    {
     "name": "stdout",
     "output_type": "stream",
     "text": [
      "[(0, 2), (0, 'Bar')]\n",
      "[(0, 2, {'weight': 3.0}), (0, 'Bar', {'weight': 1.2})]\n",
      "--------------------\n",
      "{'weight': 3.0}\n",
      "{'weight': 1.2}\n"
     ]
    }
   ],
   "source": [
    "# add single edge\n",
    "G.add_edge(0, 2, weight=3.0)\n",
    "G.add_edge(0, 'Bar', weight=1.2)\n",
    "\n",
    "# print all edges\n",
    "print(G.edges())\n",
    "print(G.edges(data=True))\n",
    "\n",
    "print('-'*20)\n",
    "# get one edges attr\n",
    "print(G.edges[(0, 2)])\n",
    "print(G.edges[(0, 'Bar')])"
   ]
  },
  {
   "cell_type": "code",
   "execution_count": 37,
   "metadata": {},
   "outputs": [
    {
     "name": "stdout",
     "output_type": "stream",
     "text": [
      "(0, 2, {'weight': 3.0})\n",
      "(0, 'Bar', {'weight': 1.2})\n",
      "(0, 1, {'f': 33})\n",
      "(1, 2, {'X': [[0, 0, 0]]})\n",
      "G has 4 edges.\n"
     ]
    }
   ],
   "source": [
    "# adding multiple edges\n",
    "G.add_edges_from([\n",
    "    (0, 1, {\"f\": 33}),\n",
    "    (1, 2, {'X': [[0]*3]})\n",
    "])\n",
    "\n",
    "# for loop\n",
    "for edge in G.edges(data=True):\n",
    "    print(edge)\n",
    "\n",
    "# the number of edges\n",
    "print(f\"G has {G.number_of_edges()} edges.\")"
   ]
  },
  {
   "attachments": {},
   "cell_type": "markdown",
   "metadata": {},
   "source": [
    "## Visualization\n",
    "\n",
    "* Parameters setting: **node_size, node_color, node_shape, width, edge_color ...**\n",
    "* Documentation: https://networkx.org/documentation/stable/reference/generated/networkx.drawing.nx_pylab.draw_networkx.html#networkx.drawing.nx_pylab.draw_networkx\n",
    "* NetworkX drawing examples: https://networkx.org/documentation/latest/auto_examples/index.html"
   ]
  },
  {
   "cell_type": "code",
   "execution_count": 41,
   "metadata": {},
   "outputs": [
    {
     "data": {
      "image/png": "[encoded data removed]",
      "text/plain": [
       "<Figure size 640x480 with 1 Axes>"
      ]
     },
     "metadata": {},
     "output_type": "display_data"
    }
   ],
   "source": [
    "nx.draw(G, with_labels=True)"
   ]
  },
  {
   "attachments": {},
   "cell_type": "markdown",
   "metadata": {},
   "source": [
    "## Node degree and Neighbor"
   ]
  },
  {
   "cell_type": "code",
   "execution_count": 55,
   "metadata": {},
   "outputs": [
    {
     "name": "stdout",
     "output_type": "stream",
     "text": [
      "Node 0 degree is: 3\n",
      "Node Bar degree is: 1\n",
      "--------------------\n",
      "Node 0 has 2 neighbars.\n",
      "Node 0 has Bar neighbars.\n",
      "Node 0 has 1 neighbars.\n",
      "--------------------\n",
      "Node 0 total has [2, 'Bar', 1] Neighbors.\n"
     ]
    }
   ],
   "source": [
    "print(f\"Node 0 degree is: {G.degree(0)}\")\n",
    "print(f\"Node Bar degree is: {G.degree('Bar')}\")\n",
    "\n",
    "print('-'*20)\n",
    "for nei in G.neighbors(0):\n",
    "    print(f\"Node 0 has {nei} neighbars.\")\n",
    "    \n",
    "print('-'*20)\n",
    "print(f\"Node 0 total has {list(G.neighbors(0))} Neighbors.\")"
   ]
  },
  {
   "attachments": {},
   "cell_type": "markdown",
   "metadata": {},
   "source": [
    "## Other functionalities"
   ]
  },
  {
   "cell_type": "code",
   "execution_count": 60,
   "metadata": {},
   "outputs": [
    {
     "data": {
      "image/png": "[encoded data removed]",
      "text/plain": [
       "<Figure size 640x480 with 1 Axes>"
      ]
     },
     "metadata": {},
     "output_type": "display_data"
    }
   ],
   "source": [
    "num_nodes = 4\n",
    "G_tmp = nx.path_graph(num_nodes)\n",
    "nx.draw(G_tmp, with_labels=True)"
   ]
  },
  {
   "cell_type": "code",
   "execution_count": 63,
   "metadata": {},
   "outputs": [
    {
     "data": {
      "text/plain": [
       "{0: 0.17543839772251532,\n",
       " 1: 0.32456160227748454,\n",
       " 2: 0.32456160227748454,\n",
       " 3: 0.17543839772251532}"
      ]
     },
     "execution_count": 63,
     "metadata": {},
     "output_type": "execute_result"
    },
    {
     "data": {
      "image/png": "[encoded data removed]",
      "text/plain": [
       "<Figure size 640x480 with 1 Axes>"
      ]
     },
     "metadata": {},
     "output_type": "display_data"
    }
   ],
   "source": [
    "G1 = nx.DiGraph(nx.path_graph(num_nodes))\n",
    "nx.draw(G1, with_labels=True)\n",
    "\n",
    "nx.pagerank(G1)"
   ]
  },
  {
   "cell_type": "code",
   "execution_count": null,
   "metadata": {},
   "outputs": [],
   "source": []
  }
 ],
 "metadata": {
  "kernelspec": {
   "display_name": "jupyterhub",
   "language": "python",
   "name": "jupyterhub"
  },
  "language_info": {
   "codemirror_mode": {
    "name": "ipython",
    "version": 3
   },
   "file_extension": ".py",
   "mimetype": "text/x-python",
   "name": "python",
   "nbconvert_exporter": "python",
   "pygments_lexer": "ipython3",
   "version": "3.9.13"
  },
  "orig_nbformat": 4
 },
 "nbformat": 4,
 "nbformat_minor": 2
}
